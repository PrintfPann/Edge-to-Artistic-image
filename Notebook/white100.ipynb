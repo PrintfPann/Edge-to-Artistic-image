version https://git-lfs.github.com/spec/v1
oid sha256:57056e044c664a6cef76e235a5f2b87224a43a9b22889f826becd9ffd888b722
size 23079725
